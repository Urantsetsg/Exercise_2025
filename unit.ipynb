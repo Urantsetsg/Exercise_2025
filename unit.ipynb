{
  "nbformat": 4,
  "nbformat_minor": 0,
  "metadata": {
    "colab": {
      "provenance": [],
      "authorship_tag": "ABX9TyNwoWlGABDhnCSNqcwvyVgs",
      "include_colab_link": true
    },
    "kernelspec": {
      "name": "python3",
      "display_name": "Python 3"
    },
    "language_info": {
      "name": "python"
    }
  },
  "cells": [
    {
      "cell_type": "markdown",
      "metadata": {
        "id": "view-in-github",
        "colab_type": "text"
      },
      "source": [
        "<a href=\"https://colab.research.google.com/github/Urantsetsg/Exercise_2025/blob/main/unit.ipynb\" target=\"_parent\"><img src=\"https://colab.research.google.com/assets/colab-badge.svg\" alt=\"Open In Colab\"/></a>"
      ]
    },
    {
      "cell_type": "markdown",
      "source": [
        "_myname = 'samsjang'\n",
        "my_name = '홍길동'\n",
        "MyName3 = 'hong gil-dong'\n",
        "country = '대한민국'\n",
        ">>> 1_str = '안녕하세요 파이썬!'\n",
        "File \"<stdin>\",line 1\n",
        "    1_str = '안녕하세요 파이썬!'\n",
        "    ^\n",
        "\n",
        "SyntaxError: invalid decimal literal\n",
        "_%var = 'Temp Variables\n",
        "@address = 'samsjans@naver.com'\n",
        "counter = 1\n",
        "Counter = 2\n",
        ">>> and = 1\n",
        "  File \"<stdin>\",line 1\n",
        "  and = 1\n",
        "  ^^^\n",
        "SyntaxError: invalid syntax\n",
        ">>> import keyword\n",
        ">>> keyword.kwlist\n",
        "['False', 'None', 'True', 'and', 'as', 'assert', 'async', 'await', 'break', 'class', 'contin-ue', 'def', 'del', 'elif', 'except', 'finally', 'for', 'from', 'global', 'if', 'import', 'in', 'is', 'lambde', 'nonlocal', 'not', 'or', 'pass', 'raise', 'return', 'try', 'while', 'with', 'yield']\n",
        ">>> abs = 1\n",
        ">>> abs(-1)\n",
        "Traceback (most recent call last):\n",
        " File \"<stdin>\", line 1, in <module>\n",
        "TypeError: 'int' object is not callable\n",
        "intData = 1\n",
        "pi = 3.14\n",
        "flag = True\n",
        "ch = 'x'\n",
        "strData = '사랑해요 파이썬!'\n",
        ">>>buffer = 1\n",
        ">>>butter + 2\n",
        "3\n",
        ">>>butter = 'three'\n",
        ">>>butter\n",
        "'three'\n",
        "\n"
      ],
      "metadata": {
        "id": "Xo03jk345FzG"
      }
    }
  ]
}
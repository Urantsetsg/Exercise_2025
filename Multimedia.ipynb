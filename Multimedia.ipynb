{
  "nbformat": 4,
  "nbformat_minor": 0,
  "metadata": {
    "colab": {
      "provenance": [],
      "authorship_tag": "ABX9TyM7fdR5YSBaJhjnmm6paxzi",
      "include_colab_link": true
    },
    "kernelspec": {
      "name": "python3",
      "display_name": "Python 3"
    },
    "language_info": {
      "name": "python"
    }
  },
  "cells": [
    {
      "cell_type": "markdown",
      "metadata": {
        "id": "view-in-github",
        "colab_type": "text"
      },
      "source": [
        "<a href=\"https://colab.research.google.com/github/Urantsetsg/Exercise_2025/blob/main/Multimedia.ipynb\" target=\"_parent\"><img src=\"https://colab.research.google.com/assets/colab-badge.svg\" alt=\"Open In Colab\"/></a>"
      ]
    },
    {
      "cell_type": "code",
      "execution_count": null,
      "metadata": {
        "id": "cne3SGE-CYmW"
      },
      "outputs": [],
      "source": []
    },
    {
      "cell_type": "markdown",
      "source": [
        "# **<font color = 'red'>멀티미디어공학과</font>**\n",
        "1. ## **<font color = 'green'>멀티미디어공학과 개요</font>**\n",
        "* ### 설립 목접:디비털 시대에 필요한 창의적 멀티미디어 전문가 양성\n",
        "* ### 전문 영역: 디자인, 영상, 애니매이션, UX/UI, 게임, 가상현실(VR/AR), 3D 모델링, 웹/앱 개발 등\n",
        "* ### 교육 목표: 공학적 사고와 예술적 감각을 융합하여 디지털 콘텐츠를 기획/제작할 수 있는 인재 배출\n",
        "2. ## **<font color = 'green'>주요 교육과정</font>**\n",
        "* ### 기초 과정: 프로그래밍, 디지털 디자인, 영상편집, 그래픽 툴 활용\n",
        "* ### 전문 과정: 3D 애니매이션, 게임 프로그래밍, 인터랙티브 미디어, 모바일 앱/ 웹 개발\n",
        "* ### 융합 과정: AI/빅데이터와 멀티미디어, 메타버스 콘텐츠 제작, 미디어아트\n",
        "3. ## **<font color = 'green'>진로 및 취업 분야</font>**\n",
        "* ### 영상/애니메이션 스튜디오\n",
        "* ### 게임 게발사 및 XR(AR/VR) 콘텐츠 제작사\n",
        "* ### UX/UI 및 웹/앱 디자인 회사\n",
        "* ### 방송국 및 뉴미디어 제작사\n",
        "* ### 기업 홍보/마케팅 멀티미디어 팀\n",
        "* ### 대학원 진학 및 연구소\n",
        "4. ## **<font color = 'green'>학과 특성</font>**\n",
        "* ### 최신 장비와 소프트웨어를 활용한 실습 중심 교육\n",
        "* ### 캡스톤디자인, 산학협력 프로젝트, 전시회 및 공모전 참여 기회 제공\n",
        "* ### 창업 및 스타트업 연계 프로그램 지원\n"
      ],
      "metadata": {
        "id": "WEOwilCWCgqc"
      }
    }
  ]
}